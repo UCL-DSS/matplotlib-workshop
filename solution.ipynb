{
 "cells": [
  {
   "cell_type": "markdown",
   "metadata": {},
   "source": [
    "## Data Science Society Workshop 4 - Matplotlib (Solutions)\n",
    "This workshop will have some code that I've written to extract data from various files. Make sure these files are in the same directory as you're notebook!\n",
    "### Importing Numpy and Matplotlib\n",
    "Before starting, run the code cell below."
   ]
  },
  {
   "cell_type": "code",
   "execution_count": null,
   "metadata": {},
   "outputs": [],
   "source": [
    "# Imports Numpy \n",
    "import numpy as np\n",
    "\n",
    "# Imports Matplotlib\n",
    "import matplotlib.pyplot as plt\n",
    "\n",
    "# Ensures graphs appear in the notebook\n",
    "%matplotlib inline"
   ]
  },
  {
   "cell_type": "markdown",
   "metadata": {},
   "source": [
    "### Debugging Problems\n",
    "#### 1) Standard Plots\n",
    "Run the setup code cell below before attempting the problem."
   ]
  },
  {
   "cell_type": "code",
   "execution_count": null,
   "metadata": {},
   "outputs": [],
   "source": [
    "## SETUOP CODE CELL DO NOT CHANGE\n",
    "# Imports special package from Scipy\n",
    "from scipy import special\n",
    "\n",
    "# Generates an array of 100 phi values\n",
    "phi = np.linspace(0,np.pi,1000)\n",
    "\n",
    "# Finds Spherical Harmonics for the Phi array at n = 100\n",
    "Y = special.sph_harm(0,100,0,phi).real"
   ]
  },
  {
   "cell_type": "markdown",
   "metadata": {},
   "source": [
    "The cell below when running correctly should plot ````Y```` against ````phi````. These two variables have been defined above. Ensure all the code works as intended."
   ]
  },
  {
   "cell_type": "code",
   "execution_count": null,
   "metadata": {},
   "outputs": [],
   "source": [
    "## PROBLEM CODE CELL\n",
    "# Generates a figure\n",
    "plt.figure()\n",
    "\n",
    "# Plots the arrays\n",
    "plt.plot(Y,phi,'r')\n",
    "\n",
    "# Axis labels\n",
    "plt.xlabel(phi)\n",
    "plt.ylabel(Y)\n",
    "\n",
    "# Title \n",
    "plt.title(\"Spherical harmonic as a function of phi\")\n",
    "\n",
    "# Adds a grid\n",
    "plt.grid"
   ]
  },
  {
   "cell_type": "code",
   "execution_count": null,
   "metadata": {},
   "outputs": [],
   "source": [
    "## SOLUTION CODE CELL\n",
    "# Generates a figure\n",
    "plt.figure()\n",
    "\n",
    "# Plots the arrays\n",
    "plt.plot(phi,Y,'r')\n",
    "\n",
    "# Axis labels\n",
    "plt.xlabel('phi')\n",
    "plt.ylabel('Y')\n",
    "\n",
    "# Title \n",
    "plt.title(\"Spherical harmonic as a function of phi\")\n",
    "\n",
    "# Adds a grid\n",
    "plt.grid()"
   ]
  },
  {
   "cell_type": "markdown",
   "metadata": {},
   "source": [
    "### Coding From Scratch \n",
    "#### 1) Basic Plots\n",
    "Below is a setup code cell that reads a file containing data that is to be plotted. Run this cell while ensuring the relevant file is in the same directory as this notebook."
   ]
  },
  {
   "cell_type": "code",
   "execution_count": null,
   "metadata": {},
   "outputs": [],
   "source": [
    "## SETUP CODE CELL DO NOT CHANGE\n",
    "# Opens file\n",
    "molE = open(\"KinEnergy1.txt\",\"r\")\n",
    "\n",
    "# Splits lines in the file\n",
    "molE1 = molE.read().splitlines()\n",
    "\n",
    "# Generates arrays to store values\n",
    "l = np.zeros(len(molE1))\n",
    "E = np.zeros(len(molE1))\n",
    "E_average = np.zeros(len(molE1))\n",
    "\n",
    "# Loop over every line\n",
    "for i in range(len(molE1)):\n",
    "    # Extracts data from columns into the empty arrays\n",
    "    l[i] = molE1[i].split()[0]\n",
    "    E[i] = molE1[i].split()[4]\n",
    "    E_average[i] = molE1[i].split()[9]\n",
    "\n",
    "# Unit Conversion\n",
    "E *= 2.194746313708*(10**5)\n",
    "E_average *= 2.194746313708*(10**5)"
   ]
  },
  {
   "cell_type": "markdown",
   "metadata": {},
   "source": [
    "On the same graph plot ````E```` and ````E_average```` as a function of ````l```` with red dots and blue dots respectively. Provide a title \"Kinetic energy of H2O traveling in a Carbon Nanotube\". Make axes labels so that \"Energy\" is the y-axis label and \"Time\" is the x-axis label. Include a grid and legend with labels \"Kinetic Energy\" and \"Average Kinetic Energy\". Set the figure size to ````(10,10)````."
   ]
  },
  {
   "cell_type": "code",
   "execution_count": null,
   "metadata": {},
   "outputs": [],
   "source": [
    "## SOLUTION CODE CELL\n",
    "# Generates a figure\n",
    "plt.figure(figsize=(10,10))\n",
    "\n",
    "# Adds grid\n",
    "plt.grid(True)\n",
    "\n",
    "# Plots Kinetic Energy\n",
    "plt.plot(l,E,'r.',label=\"Kinetic Energy\")\n",
    "\n",
    "# Adds title and labels\n",
    "plt.title(\"Kinetic energy of H2O travelling in a Carbon Nanotube\")\n",
    "plt.xlabel(\"Time\")\n",
    "plt.ylabel(\"Energy\")\n",
    "\n",
    "# Plots average energy\n",
    "plt.plot(l,E_average,'b.',label=\"Average Kinetic Energy\")\n",
    "\n",
    "plt.legend(loc='best')"
   ]
  },
  {
   "cell_type": "markdown",
   "metadata": {},
   "source": [
    "#### 2) Imshow Plots\n",
    "Generate a $10\\times10$ array of zeros. Using loops redefine each value in the array so that it is equal to the $i\\times j$ where $i$ and $j$ represent the indexes for the array slice ````x[i,j]````. Plot the resulting array and change the colour of the plot to any of your choosing and include a colour bar. Your plot will be quite blocky at first so increase the resolution to smooth the plot."
   ]
  },
  {
   "cell_type": "code",
   "execution_count": null,
   "metadata": {},
   "outputs": [],
   "source": [
    "## SOLUTION CODE CELL\n",
    "# Generating an 100x100 array of zeros (Increased from 10 to 100 to increase resolution)\n",
    "x = np.zeros((100,100))\n",
    "\n",
    "# Loop over rows\n",
    "for i in range(100):\n",
    "    # Loop over columns\n",
    "    for j in range(100):\n",
    "        # Redefines array values\n",
    "        x[i,j] = i*j\n",
    "\n",
    "# Plots array x\n",
    "plt.imshow(x,cmap='inferno')\n",
    "\n",
    "# Adds a colour bar as a scale\n",
    "plt.colorbar()"
   ]
  },
  {
   "cell_type": "markdown",
   "metadata": {},
   "source": [
    "#### 3) Imshow Plots (Continued)\n",
    "By creating an array of $8\\times8$ array of ones and zeros use **plt.imshow** to generate a chessboard. Start with an array entirely consiting of ones or zeros then change values accordingly. You'll likely need loops and conditional statements for this. My solution uses an additional parameter that gets updated in the loops. I test whether this parameter is an odd number to see whether I should change the value to a one. "
   ]
  },
  {
   "cell_type": "code",
   "execution_count": null,
   "metadata": {},
   "outputs": [],
   "source": [
    "## SOLUTION CODE CELL\n",
    "# Defining an array of zeros\n",
    "x = np.zeros((8,8))\n",
    "\n",
    "# Counter to decide when to change array value\n",
    "N = 0\n",
    "\n",
    "# Loop over rows\n",
    "for i in range(len(x)):\n",
    "    # Loop over columns\n",
    "    for j in range(len(x)):\n",
    "        # If N is an even number\n",
    "        if N%2 == 0:\n",
    "            # Redefines value as 1\n",
    "            x[i,j] = 1\n",
    "        # Updates value of N\n",
    "        N += 1\n",
    "    # Updates value of N\n",
    "    N += 1\n",
    "\n",
    "# Plots array x\n",
    "plt.imshow(x,'gray')"
   ]
  },
  {
   "cell_type": "markdown",
   "metadata": {},
   "source": [
    "### Array of Subplots  Debugging (Optional)\n",
    "Run the code cell below before attempting the problem."
   ]
  },
  {
   "cell_type": "code",
   "execution_count": null,
   "metadata": {},
   "outputs": [],
   "source": [
    "## SETUP CODE CELL DO NOT CHANGE\n",
    "# Generating an array of x values\n",
    "x = np.linspace(-10,10,100)\n",
    "\n",
    "# Generating an array of y values\n",
    "y = np.linspace(-1,1,25)\n",
    "\n",
    "# Attaching four y arrays together\n",
    "y = np.concatenate([y,y,y,y])\n",
    "\n",
    "# Imports fftpack package from Scipy\n",
    "from scipy import fftpack\n",
    "\n",
    "# Fast fourier transforms y\n",
    "y_fft = fftpack.rfft(y)"
   ]
  },
  {
   "cell_type": "markdown",
   "metadata": {},
   "source": [
    "The variables ````x````, ````y```` and ````y_fft```` are defined in the code cell above. Correct the code cell below to ensure it plots an array of two subplots. The first subplot should have ````y```` as a function of ````x```` and the second should have ````y_fft```` as a function of ````x````."
   ]
  },
  {
   "cell_type": "code",
   "execution_count": null,
   "metadata": {},
   "outputs": [],
   "source": [
    "## PROBLEM CODE CELL\n",
    "# Generates a figure\n",
    "plt.figure(figsize=(10,5))\n",
    "\n",
    "# Adds a subplot\n",
    "ax1 = add_subplot(1,2,1)\n",
    "\n",
    "# Plots y as a function of x on first subplot\n",
    "ax1.plot(x,y)\n",
    "\n",
    "# Adds \"Saw Tooth Function\" as a title\n",
    "ax1.title(\"Saw Tooth Function\")\n",
    "\n",
    "# Adds axes labels\n",
    "ax1.xlabel(\"x\")\n",
    "ax1.ylabel(\"y\")\n",
    "\n",
    "# Grid\n",
    "ax1.grid(True)\n",
    "\n",
    "# Adds a subplot\n",
    "ax1 = fig.add_subplot(1,2,1)\n",
    "\n",
    "# Plots y_fft as a function of x on first subplot\n",
    "ax1.plot(x,y)\n",
    "\n",
    "# Adds \"Fourier Transformed Saw Tooth Function\" as a title\n",
    "ax1.title(\"Fourier Transformed Saw Tooth Function\")\n",
    "\n",
    "# Adds axes labels\n",
    "ax1.xlabel(\"x\")\n",
    "ax1.ylabel(\"y_fft\")\n",
    "\n",
    "# Grid\n",
    "ax1.grid(True)"
   ]
  },
  {
   "cell_type": "code",
   "execution_count": null,
   "metadata": {},
   "outputs": [],
   "source": [
    "## SOLUTION CODE CELL\n",
    "# Generates a figure\n",
    "fig = plt.figure(figsize=(10,5))\n",
    "\n",
    "# Adds a subplot\n",
    "ax1 = fig.add_subplot(1,2,1)\n",
    "\n",
    "# Plots y as a function of x on first subplot\n",
    "ax1.plot(x,y)\n",
    "\n",
    "# Adds \"Saw Tooth Function\" as a title\n",
    "ax1.set_title(\"Saw Tooth Function\")\n",
    "\n",
    "# Adds axes labels\n",
    "ax1.set_xlabel(\"x\")\n",
    "ax1.set_ylabel(\"y\")\n",
    "\n",
    "# Grid\n",
    "ax1.grid(True)\n",
    "\n",
    "# Adds a subplot\n",
    "ax2 = fig.add_subplot(1,2,2)\n",
    "\n",
    "# Plots y_fft as a function of x on first subplot\n",
    "ax2.plot(x,y_fft)\n",
    "\n",
    "# Adds \"Fourier Transformed Saw Tooth Function\" as a title\n",
    "ax2.set_title(\"Fourier Transformed Saw Tooth Function\")\n",
    "\n",
    "# Adds axes labels\n",
    "ax2.set_xlabel(\"x\")\n",
    "ax2.set_ylabel(\"y_fft\")\n",
    "\n",
    "# Grid\n",
    "ax2.grid(True)"
   ]
  }
 ],
 "metadata": {
  "kernelspec": {
   "display_name": "Python 3",
   "language": "python",
   "name": "python3"
  },
  "language_info": {
   "codemirror_mode": {
    "name": "ipython",
    "version": 3
   },
   "file_extension": ".py",
   "mimetype": "text/x-python",
   "name": "python",
   "nbconvert_exporter": "python",
   "pygments_lexer": "ipython3",
   "version": "3.7.3"
  }
 },
 "nbformat": 4,
 "nbformat_minor": 2
}
