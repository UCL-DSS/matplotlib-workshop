{
 "cells": [
  {
   "cell_type": "markdown",
   "metadata": {},
   "source": [
    "## DS03- Data Science with Python -  Matplotlib\n",
    "In the last workshops we worked with Numpy and Pandas. Here we will introduce another package called Matplotlib albiet while still using Numpy and Pandas. The main focus of Matplotlib is to visualise data by enabling you to plot a wide variety of graphs. \n",
    "#### Importing Matplotlib\n",
    "Like we did with Numpy we have to import Matplotlib. Note that we here we require an additional line ````%matplotlib inline````. This line ensures that graphs we plot are outputted in the notebook and not in a seperate window."
   ]
  },
  {
   "cell_type": "code",
   "execution_count": null,
   "metadata": {},
   "outputs": [],
   "source": [
    "# Importing Numpy\n",
    "import numpy as np\n",
    "\n",
    "# Importing Matplotlib\n",
    "import matplotlib.pyplot as plt\n",
    "\n",
    "# Ensure that graphs are displayed within the notebook\n",
    "%matplotlib inline"
   ]
  },
  {
   "cell_type": "markdown",
   "metadata": {},
   "source": [
    "### Part 1 - visuals of self created data\n",
    "\n",
    "#### Producing Something to Plot\n",
    "In order to plot a graph we first need something to plot! This is where Numpy comes in handy as we can generate an array of values which we can plot. Below we will plot a sine function. We will begin by generating an array of with $100$ values from $0$ to $2\\pi$, then inserting that array into the ````np.sin```` function."
   ]
  },
  {
   "cell_type": "code",
   "execution_count": null,
   "metadata": {},
   "outputs": [],
   "source": [
    "# Creating an array with 100 values from 0 to 2pi\n",
    "x = np.linspace(0,2*np.pi,100)\n",
    "print(x)\n",
    "\n",
    "# An array with the sine of all the values in array x\n",
    "y = np.sin(x)\n",
    "print(y)"
   ]
  },
  {
   "cell_type": "markdown",
   "metadata": {},
   "source": [
    "#### Producing a Basic Plot\n",
    "To begin with we will produce a basic graph lacking any features such as labels and the like. We will add these later. To plot the the sine function in this way we first write the line ````plt.figure()```` and then ````plt.plot(x,y)````. The first argument for ````plt.plot```` is an array for the values along the x-axis while the second is an array for the values on the y-axis. The values for ````x```` and ````y```` were already defined in the code cell above. "
   ]
  },
  {
   "cell_type": "code",
   "execution_count": null,
   "metadata": {},
   "outputs": [],
   "source": [
    "# Produces the figure\n",
    "plt.figure()\n",
    "\n",
    "# Plots the sine function\n",
    "plt.plot(x,y)"
   ]
  },
  {
   "cell_type": "markdown",
   "metadata": {},
   "source": [
    "#### Adding a Grid\n",
    "All this requires is the additional line ````plt.grid(True)````."
   ]
  },
  {
   "cell_type": "code",
   "execution_count": null,
   "metadata": {
    "scrolled": true
   },
   "outputs": [],
   "source": [
    "# Produces the figure\n",
    "plt.figure()\n",
    "\n",
    "# Adds a grid\n",
    "plt.grid(True)\n",
    "\n",
    "# Plots the sine function\n",
    "plt.plot(x,y)"
   ]
  },
  {
   "cell_type": "markdown",
   "metadata": {},
   "source": [
    "#### Customising the Plot\n",
    "There are a number of additional arguments that may be applied to ````plt.plot```` to change the way our plot looks. For instance if we wanted to change the colour of the plot we could pass the argument ````'r'```` to change it to red.  This can be done for a number of other colours by changing the letter; ````'g'```` for green, ````'y'```` for yellow and some others. For the full list of possible colours one can look at the documentation for the ````plt.plot```` at https://matplotlib.org/3.1.1/api/_as_gen/matplotlib.pyplot.plot.html. This link also contains many more ways in which ````plt.plot```` can be used, which we will not cover here."
   ]
  },
  {
   "cell_type": "code",
   "execution_count": null,
   "metadata": {},
   "outputs": [],
   "source": [
    "# Produces the figure\n",
    "plt.figure()\n",
    "\n",
    "# Adds a grid\n",
    "plt.grid(True)\n",
    "\n",
    "# Plots the sine function in red\n",
    "plt.plot(x,y,'r')"
   ]
  },
  {
   "cell_type": "markdown",
   "metadata": {},
   "source": [
    "Further customisations can be made by including within the colour argument a symbol or punctuation of some sort. For instance if I wanted to change the plot from a line to a set of dots then I would pass ````'r.'```` as the third argument. Replacing the ````.```` with a ````+```` or ````x```` changes the the plot to a set of plus signs or crosses respectively. Other alternatives include replacing the ````.```` with ````--```` which would give you a dashed line. In the code cell below replace the ````.```` with each of three alternatives mentioned above to see how the plot changes."
   ]
  },
  {
   "cell_type": "code",
   "execution_count": null,
   "metadata": {},
   "outputs": [],
   "source": [
    "# Produces the figure\n",
    "plt.figure()\n",
    "\n",
    "# Adds a grid\n",
    "plt.grid(True)\n",
    "\n",
    "# Plots the sine function with red + signs\n",
    "plt.plot(x,y,'r.')"
   ]
  },
  {
   "cell_type": "markdown",
   "metadata": {},
   "source": [
    "#### Adding Labels\n",
    "To add a title we pass the line ````plt.title()```` with a string inside the brackets indicating what we want the title to be."
   ]
  },
  {
   "cell_type": "code",
   "execution_count": null,
   "metadata": {},
   "outputs": [],
   "source": [
    "# Produces the figure\n",
    "plt.figure()\n",
    "\n",
    "# Adds a grid\n",
    "plt.grid(True)\n",
    "\n",
    "# Adds a title\n",
    "plt.title(\"Plot of a sine function\")\n",
    "\n",
    "# Plots the sine function with red + signs\n",
    "plt.plot(x,y,'r.')"
   ]
  },
  {
   "cell_type": "markdown",
   "metadata": {},
   "source": [
    "Adding axis labels is done in a similar fashion using the functions ````plt.xlabel()```` and ````plt.ylabel```` for each axis."
   ]
  },
  {
   "cell_type": "code",
   "execution_count": null,
   "metadata": {},
   "outputs": [],
   "source": [
    "# Produces the figure\n",
    "plt.figure()\n",
    "\n",
    "# Adds a grid\n",
    "plt.grid(True)\n",
    "\n",
    "# Adds a title\n",
    "plt.title(\"Plot of a sine function\")\n",
    "\n",
    "# Adds label for the x-axis\n",
    "plt.xlabel(\"x\")\n",
    "\n",
    "# Adds label for the y-axis\n",
    "plt.ylabel(\"sin(x)\")\n",
    "\n",
    "# Plots the sine function with red + signs\n",
    "plt.plot(x,y,'r+')"
   ]
  },
  {
   "cell_type": "markdown",
   "metadata": {},
   "source": [
    "#### Adding Another Plot to the Graph\n",
    "Often we'll want to compare a number of different plots on the same graph. To do this we simply pass another set of points into a new ````plt.plot```` line. Below we will pass the array ````x```` through ````np.cos````. We will then plot this along with our sine plot on the same figure. "
   ]
  },
  {
   "cell_type": "code",
   "execution_count": null,
   "metadata": {
    "scrolled": true
   },
   "outputs": [],
   "source": [
    "# Generates an array of cos(x) values\n",
    "y1 = np.cos(x)\n",
    "print(y1)"
   ]
  },
  {
   "cell_type": "code",
   "execution_count": null,
   "metadata": {},
   "outputs": [],
   "source": [
    "# Produces the figure\n",
    "plt.figure()\n",
    "\n",
    "# Adds a grid\n",
    "plt.grid(True)\n",
    "\n",
    "# Adds a title\n",
    "plt.title(\"Plot of a sine and cosine function\")\n",
    "\n",
    "# Adds label for the x-axis\n",
    "plt.xlabel(\"x\")\n",
    "\n",
    "# Adds label for the y-axis\n",
    "plt.ylabel(\"y\")\n",
    "\n",
    "# Plots the sine function with red + signs\n",
    "plt.plot(x,y,'r+')\n",
    "\n",
    "# Plots the cos function with green crosses\n",
    "plt.plot(x,y1,'gx')"
   ]
  },
  {
   "cell_type": "markdown",
   "metadata": {},
   "source": [
    "#### Adding a Legend\n",
    "In order to add a legend we need to specify a label for the plots of the sine and cosine function. This is done by adding an additional argument ````label=```` into ````plt.plot````. The label needs to be set to the string which you want to be the label. Then an additional line, ````plt.legend```` is required for the legend to appear. The optional argument ````loc='best'```` is often used in ````plt.legend````. This simply tries to ensure that the legend is placed in the most suitable location."
   ]
  },
  {
   "cell_type": "code",
   "execution_count": null,
   "metadata": {},
   "outputs": [],
   "source": [
    "# Produces the figure\n",
    "plt.figure()\n",
    "\n",
    "# Adds a grid\n",
    "plt.grid(True)\n",
    "\n",
    "# Adds a title\n",
    "plt.title(\"Plot of a sine and cosine function\")\n",
    "\n",
    "# Adds label for the x-axis\n",
    "plt.xlabel(\"x\")\n",
    "\n",
    "# Adds label for the y-axis\n",
    "plt.ylabel(\"y\")\n",
    "\n",
    "# Plots the sine function with red + signs and defines a legend label\n",
    "plt.plot(x,y,'r+',label=\"sin(x)\")\n",
    "\n",
    "# Plots the cos function with green crosses and defines a legend label\n",
    "plt.plot(x,y1,'gx',label=\"cos(x)\")\n",
    "\n",
    "# Adds a legend in the best position\n",
    "plt.legend(loc='best')"
   ]
  },
  {
   "cell_type": "markdown",
   "metadata": {},
   "source": [
    "#### Imposing Limits\n",
    "Suppose we wanted to cut out the sections of the grapth to the left and the right where no points are plotted. This can be done by specifying a range with ````plt.xlim```` as follows. If you wanted to do this for the y-axis you could also use ````plt.ylim```` in the same way."
   ]
  },
  {
   "cell_type": "code",
   "execution_count": null,
   "metadata": {},
   "outputs": [],
   "source": [
    "# Produces the figure\n",
    "plt.figure()\n",
    "\n",
    "# Adds a grid\n",
    "plt.grid(True)\n",
    "\n",
    "# Adds a title\n",
    "plt.title(\"Plot of a sine and cosine function\")\n",
    "\n",
    "# Adds label for the x-axis\n",
    "plt.xlabel(\"x\")\n",
    "\n",
    "# Adds label for the y-axis\n",
    "plt.ylabel(\"y\")\n",
    "\n",
    "# Defines a region along the x-axis to be displayed\n",
    "plt.xlim(0,2*np.pi)\n",
    "\n",
    "# Plots the sine function with red + signs and defines a legend label\n",
    "plt.plot(x,y,'r+',label=\"sin(x)\")\n",
    "\n",
    "# Plots the cos function with green crosses and defines a legend label\n",
    "plt.plot(x,y1,'gx',label=\"cos(x)\")\n",
    "\n",
    "# Adds a legend in the best position\n",
    "plt.legend(loc='best')"
   ]
  },
  {
   "cell_type": "markdown",
   "metadata": {},
   "source": [
    "#### Changing the Size of the Plot\n",
    "In order to increase the size of the plot we pass the ````figsize=(x,y)```` argument into ````plt.figure````. Here ````x```` and ````y```` specify the dimensions of the graph."
   ]
  },
  {
   "cell_type": "code",
   "execution_count": null,
   "metadata": {},
   "outputs": [],
   "source": [
    "# Produces the figure\n",
    "plt.figure(figsize=(8,6))\n",
    "\n",
    "# Adds a grid\n",
    "plt.grid(True)\n",
    "\n",
    "# Adds a title\n",
    "plt.title(\"Plot of a sine and cosine function\")\n",
    "\n",
    "# Adds label for the x-axis\n",
    "plt.xlabel(\"x\")\n",
    "\n",
    "# Adds label for the y-axis\n",
    "plt.ylabel(\"y\")\n",
    "\n",
    "# Defines a region along the x-axis to be displayed\n",
    "plt.xlim(0,2*np.pi)\n",
    "\n",
    "# Plots the sine function with red + signs and defines a legend label\n",
    "plt.plot(x,y,'r+',label=\"sin(x)\")\n",
    "\n",
    "# Plots the cos function with green crosses and defines a legend label\n",
    "plt.plot(x,y1,'gx',label=\"cos(x)\")\n",
    "\n",
    "# Adds a legend in the best position\n",
    "plt.legend(loc='best')"
   ]
  },
  {
   "cell_type": "markdown",
   "metadata": {},
   "source": [
    "### Style\n",
    "One further way of customising the look of your plots is by using ````plt.style.use````. All you need to do is pass one specific string as the argument and then all your plots will appear different when you use Matplotlib to plot something again. Below there are two code cells. The first passes ````'ggplot'```` as an argument for ````plt.style.use````. The second is identical to the code cell used to plot the sin and cos graph above however our graph will look different since we changed the style."
   ]
  },
  {
   "cell_type": "code",
   "execution_count": null,
   "metadata": {},
   "outputs": [],
   "source": [
    "# Changing style to ggplot\n",
    "plt.style.use('ggplot')"
   ]
  },
  {
   "cell_type": "code",
   "execution_count": null,
   "metadata": {
    "scrolled": false
   },
   "outputs": [],
   "source": [
    "# Produces the figure\n",
    "plt.figure(figsize=(8,6))\n",
    "\n",
    "# Adds a grid\n",
    "plt.grid(True)\n",
    "\n",
    "# Adds a title\n",
    "plt.title(\"Plot of a sine and cosine function\")\n",
    "\n",
    "# Adds label for the x-axis\n",
    "plt.xlabel(\"x\")\n",
    "\n",
    "# Adds label for the y-axis\n",
    "plt.ylabel(\"y\")\n",
    "\n",
    "# Defines a region along the x-axis to be displayed\n",
    "plt.xlim(0,2*np.pi)\n",
    "\n",
    "# Plots the sine function with red + signs and defines a legend label\n",
    "plt.plot(x,y,'r+',label=\"sin(x)\")\n",
    "\n",
    "# Plots the cos function with green crosses and defines a legend label\n",
    "plt.plot(x,y1,'gx',label=\"cos(x)\")\n",
    "\n",
    "# Adds a legend in the best position\n",
    "plt.legend(loc='best')"
   ]
  },
  {
   "cell_type": "markdown",
   "metadata": {},
   "source": [
    "Run the code cell below to return us to the ````'default'```` style."
   ]
  },
  {
   "cell_type": "code",
   "execution_count": null,
   "metadata": {},
   "outputs": [],
   "source": [
    "# Changing back to default style\n",
    "plt.style.use('default')"
   ]
  },
  {
   "cell_type": "markdown",
   "metadata": {},
   "source": [
    "### plt.imshow\n",
    "In addition to the basic type of plot shown above Matplotlib enables you to plot a wide variaty of different types of plots. If you have a set of values on a 2D grid and want a means to display this then ````plt.imshow```` allows you to do this. Below we shall create a $2\\times 2$ array of random integers from $1$ to $10$. This shall be plotted using ````plt.imshow````."
   ]
  },
  {
   "cell_type": "code",
   "execution_count": null,
   "metadata": {},
   "outputs": [],
   "source": [
    "# Creates a 10x10 array of random integers from 1 to 10\n",
    "x = np.random.randint(1,11,(2,2))\n",
    "print(x)"
   ]
  },
  {
   "cell_type": "markdown",
   "metadata": {},
   "source": [
    "Here we plot the above array using ````plt.imshow````."
   ]
  },
  {
   "cell_type": "code",
   "execution_count": null,
   "metadata": {},
   "outputs": [],
   "source": [
    "# Plots array x\n",
    "plt.imshow(x)"
   ]
  },
  {
   "cell_type": "markdown",
   "metadata": {},
   "source": [
    "As can be seen above the array we produced has four values and when plotted using ````plt.imshow```` we get four squares.\n",
    "The colour of each square indicates the value at that point. Obviously with only four points the resolution would be quite low so we shall do the same thing with a $100\\times 100$ array."
   ]
  },
  {
   "cell_type": "code",
   "execution_count": null,
   "metadata": {},
   "outputs": [],
   "source": [
    "# Creates a 10x10 array of random integers from 1 to 10\n",
    "x = np.random.randint(1,11,(100,100))\n",
    "print(x)"
   ]
  },
  {
   "cell_type": "code",
   "execution_count": null,
   "metadata": {},
   "outputs": [],
   "source": [
    "# Plots array x\n",
    "plt.imshow(x)"
   ]
  },
  {
   "cell_type": "markdown",
   "metadata": {},
   "source": [
    "#### plt.colorbar\n",
    "As you can see our points are now much smaller but each point in the array is still represented by a single square. One thing that you'll want when interpreting a graph like this is a scale. To do this we use ````plt.colorbar````."
   ]
  },
  {
   "cell_type": "code",
   "execution_count": null,
   "metadata": {},
   "outputs": [],
   "source": [
    "# Plots array x\n",
    "plt.imshow(x)\n",
    "\n",
    "# Generates a scale\n",
    "plt.colorbar()"
   ]
  },
  {
   "cell_type": "markdown",
   "metadata": {},
   "source": [
    "If need be you can change the size of the colour bar with the ````shrink=x```` argument inside ````plt.colorbar````. This will scale the colourbar by the value of ````x````. Note that ````x```` can be larger than $1$ despite the argument being shrink it will also increase the bar in size if an appropriate input is provided."
   ]
  },
  {
   "cell_type": "code",
   "execution_count": null,
   "metadata": {},
   "outputs": [],
   "source": [
    "# Plots array x\n",
    "plt.imshow(x)\n",
    "\n",
    "# Generates a scale\n",
    "plt.colorbar(shrink=0.5)"
   ]
  },
  {
   "cell_type": "markdown",
   "metadata": {},
   "source": [
    "#### Changing the Colour\n",
    "As with ````plt.plot```` one can also change the colours in ````plt.imshow````. To do this we pass an additional argument ````cmap='inferno'````. Here the string specifies the sorts of colours we get. There are a number of other options detailed here https://matplotlib.org/3.1.0/tutorials/colors/colormaps.html. Take the time to try some of these yourselves!"
   ]
  },
  {
   "cell_type": "code",
   "execution_count": null,
   "metadata": {},
   "outputs": [],
   "source": [
    "# Plots array x\n",
    "plt.imshow(x,cmap='inferno')\n",
    "\n",
    "# Generates a scale\n",
    "plt.colorbar()"
   ]
  },
  {
   "cell_type": "markdown",
   "metadata": {},
   "source": [
    "#### Specifying the Range on the Axes\n",
    "By using the extent argument in ````plt.imshow```` one can specify the range along each axis. This is done by typing ````extent=(xstart,xend,ystart,yend)```` inside ````plt.imshow```` as an argument. As can be seen below the axis now go over the specified range as opposed to simply using the index of the array."
   ]
  },
  {
   "cell_type": "code",
   "execution_count": null,
   "metadata": {},
   "outputs": [],
   "source": [
    "# Plots array x \n",
    "plt.imshow(x,cmap='inferno',extent=(20,80,20,80))\n",
    "\n",
    "# Generates a scale\n",
    "plt.colorbar()"
   ]
  },
  {
   "cell_type": "markdown",
   "metadata": {},
   "source": [
    "#### Adding Labels\n",
    "Labels can be added in much the same way as for ````plt.plot````. Once again we make use of the functions ````plt.title````, ````plt.xlabel```` and ````plt.ylabel````."
   ]
  },
  {
   "cell_type": "code",
   "execution_count": null,
   "metadata": {},
   "outputs": [],
   "source": [
    "# Plots array x \n",
    "plt.imshow(x,cmap='inferno',extent=(20,80,20,80))\n",
    "# Adds title\n",
    "plt.title(\"A bunch of random numbers\")\n",
    "\n",
    "# Axes labels\n",
    "plt.xlabel(\"x\")\n",
    "plt.ylabel(\"y\")\n",
    "\n",
    "# Generates a scale\n",
    "plt.colorbar()"
   ]
  },
  {
   "cell_type": "markdown",
   "metadata": {},
   "source": [
    "Again as with Numpy I'd like to emphasise that this is merely a taste of what you can do with Matplotlib. There are many more plots out there supported by Matplotlib that are useful if you wish to present you're data in a different way.\n",
    "### Array of Subplots \n",
    "What if we wanted to display several plots as part of the output for the same cell but on different graphs. To do this we cannot simply use ````plt.plot```` again as this would simply add the plot to the same graph as we saw with the sine and cosine graphs. Equally using ````plt.imshow```` only displays the last set of values plotted. For the example below we shall use are cosine and sine functions from before but this time we aim to plot them on seperate graphs as the output for the same cell.  "
   ]
  },
  {
   "cell_type": "code",
   "execution_count": null,
   "metadata": {},
   "outputs": [],
   "source": [
    "# Creating an array with 100 values from 0 to 2pi\n",
    "x = np.linspace(0,2*np.pi,100)\n",
    "\n",
    "# An array with the sine of all the values in array x\n",
    "y1 = np.sin(x)\n",
    "\n",
    "# An array with the cos of all the values in array x\n",
    "y2 = np.cos(x)"
   ]
  },
  {
   "cell_type": "markdown",
   "metadata": {},
   "source": [
    "The process begins by defining your figure as a variable when you use ````plt.figure````. Then you define a subplot ````ax1````, which in this first case is ````fig.add_subplot(1,2,1)````. When we use dots it means we either look for or create an attribute for a variable. The first two numbers indicate the dimensions of your array of subplots. In this case the array of subplots will be $1\\times 2$. The last number indicates which subplot this is. As this is the first subplot we use $1$ for this number. Then in a similar fashion to plotting as above we use the same functions with the key difference being instead of using ````plt.```` we use ````ax1.```` (or whatever your subplot was defined as) before the function. Note that for the labels they also require a ````set_```` as well. "
   ]
  },
  {
   "cell_type": "code",
   "execution_count": null,
   "metadata": {
    "scrolled": false
   },
   "outputs": [],
   "source": [
    "# Defines a variable for your array of subplots\n",
    "fig = plt.figure(figsize=(10,5))\n",
    "\n",
    "# Adds a subplot to the array\n",
    "ax1 = fig.add_subplot(1,2,1)\n",
    "\n",
    "# Plots the sine function on the first subplot\n",
    "ax1.plot(x,y1,'r')\n",
    "ax1.set_title(\"Sine function\")\n",
    "ax1.set_xlabel(\"x\")\n",
    "ax1.set_ylabel(\"y\")\n",
    "ax1.grid(True)\n",
    "\n",
    "# Plots the cosine function on the second subplot\n",
    "ax2 = fig.add_subplot(1,2,2)\n",
    "ax2.plot(x,y2,'g')\n",
    "ax2.set_title(\"Cosine function\")\n",
    "ax2.set_xlabel(\"x\")\n",
    "ax2.set_ylabel(\"y\")\n",
    "ax2.grid(True)"
   ]
  },
  {
   "cell_type": "markdown",
   "metadata": {},
   "source": [
    "### Part 2 - visuals of data from Excel \n",
    "\n",
    "#### Choropleth map\n",
    "\n",
    "Here is an example of a choropleth map. We will build a map of Europe showing each country in a different color, depending on the number of Coronavirus cases. Note that you need 2 elements to build a chloropleth map:\n",
    "\n",
    "1. A shape file in the geojson format: it gives the boundaries of every zone that you want to represent.\n",
    "2. A data frame that gives the values of each zone.\n"
   ]
  },
  {
   "cell_type": "markdown",
   "metadata": {},
   "source": [
    "### Install/import libraries.\n",
    "\n",
    "You need Folium package for the boundaries of the zone."
   ]
  },
  {
   "cell_type": "code",
   "execution_count": null,
   "metadata": {},
   "outputs": [],
   "source": [
    "# Install folium\n",
    "!conda install -c conda-forge folium"
   ]
  },
  {
   "cell_type": "code",
   "execution_count": null,
   "metadata": {},
   "outputs": [],
   "source": [
    "# Import libraries\n",
    "import folium"
   ]
  },
  {
   "cell_type": "markdown",
   "metadata": {},
   "source": [
    "### Data frame\n",
    "\n",
    "Let's look at our data that gives values for each zone."
   ]
  },
  {
   "cell_type": "code",
   "execution_count": null,
   "metadata": {},
   "outputs": [],
   "source": [
    "df2=pd.read_excel(\"Coronadata30:31mareu:usa.xlsx\")\n",
    "df2"
   ]
  },
  {
   "cell_type": "markdown",
   "metadata": {},
   "source": [
    "### What is the data?\n",
    "\n",
    "The first column is the name of the country/state, the second column is the number of Coronavitus cases in that country in a day, the third column is the region of that country (Europe or USA), and the last column is the code of the country. \n",
    "\n",
    "### Map of Europe\n",
    "\n",
    "Let's make a map of Coronavirus cases in Europe. Let's start by having a separate dataset only for Europe countries."
   ]
  },
  {
   "cell_type": "code",
   "execution_count": null,
   "metadata": {},
   "outputs": [],
   "source": [
    "#Select only the rows with Region Europe\n",
    "dfEU=df2.loc[df2[\"Region\"] == \"Europe\"]\n",
    "dfEU"
   ]
  },
  {
   "cell_type": "markdown",
   "metadata": {},
   "source": [
    "### Shape of the countries\n",
    "\n",
    "Now let's load the data that gives the boundaries of each zone. The code is already posted on GitHub, so we will only read it from there. The only thing you need to know about the code bellow is that you need the file's url, name, and type. "
   ]
  },
  {
   "cell_type": "code",
   "execution_count": null,
   "metadata": {},
   "outputs": [],
   "source": [
    "# Load the shape of the zone (countries)\n",
    "import json\n",
    "import requests\n",
    "\n",
    "def load_data(url, filename, file_type):\n",
    "    r = requests.get(url)\n",
    "    with open(filename, 'w') as f:\n",
    "        f.write(r.content.decode(\"utf-8\"))\n",
    "    with open(filename, 'r') as f:\n",
    "        return file_type(f)\n",
    "\n",
    "geo_json_data = load_data(\n",
    "    'https://raw.githubusercontent.com/python-visualization/folium/master/examples/data/world-countries.json',\n",
    "    'world-countries.json',\n",
    "     json.load)"
   ]
  },
  {
   "cell_type": "markdown",
   "metadata": {},
   "source": [
    "### Zoom in to Europe\n",
    "\n",
    "The map is showing all the globe. To zoom in to Europe, we put the coordinates of the center of Europe: **(54,15)**."
   ]
  },
  {
   "cell_type": "code",
   "execution_count": null,
   "metadata": {},
   "outputs": [],
   "source": [
    "# Initialize the map:\n",
    "m = folium.Map(location=[54, 15],zoom_start=3)\n",
    "m"
   ]
  },
  {
   "cell_type": "markdown",
   "metadata": {},
   "source": [
    "### Creating the map\n",
    "\n",
    "- geo_data = the country boundaries, keep in mind that each country is noted with its country code and not its name\n",
    "- data = for the Coronavirus cases we use the dataset we created for Europe countries\n",
    "- columns = we use the **Countrycode** column and not the **Country/State** column because in the geo_data each country is represented by its code\n",
    "- key_on = must start with feature; **id** is the country code in the Github data\n",
    "- fill_collor\n",
    "- fill_opacity\n",
    "- line_opacity = contour line opacity\n",
    "- legend_name\n",
    "- bins = the limits you can set for each color"
   ]
  },
  {
   "cell_type": "code",
   "execution_count": null,
   "metadata": {},
   "outputs": [],
   "source": [
    "m.choropleth(\n",
    "    geo_data=geo_json_data,\n",
    "    data=dfEU,\n",
    "    columns=['Countrycode', 'Cases'],\n",
    "    key_on='feature.id',\n",
    "    fill_color='Oranges',\n",
    "    fill_opacity=0.7,\n",
    "    line_opacity=0.8,\n",
    "    legend_name='Coronavirus Europe cases',\n",
    "    bins=[0,4000,20000,50000,80000,102000]\n",
    "    )\n",
    "folium.LayerControl().add_to(m)\n",
    "\n",
    "m"
   ]
  },
  {
   "cell_type": "markdown",
   "metadata": {},
   "source": [
    "### Interpretation\n",
    "\n",
    "This map shows the Coronavirus cases in countries in Europe. We can see from the legend that the darker the color, more cases the country has.\n",
    "\n",
    "### More colors for the map\n",
    "\n",
    "You can change the color of the map by changing **fill_color** You can find more colors here: https://chrisalbon.com/python/basics/set_the_color_of_a_matplotlib/\n",
    "\n",
    "### Try it!\n",
    "\n",
    "Now you can try to make a map showing the Coronavirus cases in US states. Use the cell bellow. I already loaded the Github data for the US states boundaries in the variable **geo_json_data** bellow. You need to make a variable with only the US states (**Region** = **USA**) using **\"Coronadata30:31mareu:usa.xlsx\"** which is now in the variable df, then initialize the map with the center of the US coordinates **(37, -102)**, then call **m.choropleth** with the right arguments. "
   ]
  },
  {
   "cell_type": "code",
   "execution_count": null,
   "metadata": {},
   "outputs": [],
   "source": [
    "geo_json_data = load_data(\n",
    "    'https://raw.githubusercontent.com/jupyter-widgets/ipyleaflet/master/examples/us-states.json',\n",
    "    'us-states.json',\n",
    "     json.load)"
   ]
  }
 ],
 "metadata": {
  "kernelspec": {
   "display_name": "Python 3",
   "language": "python",
   "name": "python3"
  },
  "language_info": {
   "codemirror_mode": {
    "name": "ipython",
    "version": 3
   },
   "file_extension": ".py",
   "mimetype": "text/x-python",
   "name": "python",
   "nbconvert_exporter": "python",
   "pygments_lexer": "ipython3",
   "version": "3.7.4"
  }
 },
 "nbformat": 4,
 "nbformat_minor": 2
}
